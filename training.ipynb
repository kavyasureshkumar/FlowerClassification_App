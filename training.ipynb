{
  "nbformat": 4,
  "nbformat_minor": 0,
  "metadata": {
    "colab": {
      "name": "training.ipynb",
      "provenance": [],
      "collapsed_sections": []
    },
    "kernelspec": {
      "name": "python3",
      "display_name": "Python 3"
    },
    "language_info": {
      "name": "python"
    },
    "accelerator": "GPU"
  },
  "cells": [
    {
      "cell_type": "code",
      "metadata": {
        "id": "bzRJn9QTPg_D"
      },
      "source": [
        "import pandas as pd\n",
        "import numpy as np\n",
        "import matplotlib.pyplot as plt\n",
        "import seaborn as sns\n",
        "from sklearn.preprocessing import RobustScaler\n",
        "import os\n",
        "import cv2"
      ],
      "execution_count": null,
      "outputs": []
    },
    {
      "cell_type": "code",
      "metadata": {
        "id": "PmNQjfNueLtz"
      },
      "source": [
        "from google.colab import drive\n",
        "drive.mount('/content/drive')"
      ],
      "execution_count": null,
      "outputs": []
    },
    {
      "cell_type": "code",
      "metadata": {
        "id": "nGg6u2gBePUQ"
      },
      "source": [
        "!unzip \"/content/drive/My Drive/tmlc_images.zip\""
      ],
      "execution_count": null,
      "outputs": []
    },
    {
      "cell_type": "code",
      "metadata": {
        "id": "xrtOkXlS7QwE"
      },
      "source": [
        "import tensorflow as tf"
      ],
      "execution_count": null,
      "outputs": []
    },
    {
      "cell_type": "code",
      "metadata": {
        "id": "_rmz5MjVghrK",
        "colab": {
          "base_uri": "https://localhost:8080/"
        },
        "outputId": "a9c4b07c-cec4-4a62-ff39-39748c6d9f05"
      },
      "source": [
        "from tensorflow.keras.preprocessing.image import ImageDataGenerator\n",
        "\n",
        "# create a new generator\n",
        "datagen_train = ImageDataGenerator(rotation_range=45, width_shift_range=0.1,\n",
        "    height_shift_range=0.1, shear_range=0.2, zoom_range=0.2,\n",
        "    horizontal_flip=True, fill_mode=\"nearest\", rescale=1./255)\n",
        "datagen = ImageDataGenerator(rescale = 1./255)\n",
        "# load train data\n",
        "train_dir =  \"train\"\n",
        "# load validation data\n",
        "val_dir = \"val\"\n",
        "# load train data\n",
        "test_dir = \"test\"\n",
        "train = datagen_train.flow_from_directory(train_dir, target_size = (224,224),batch_size = 32, class_mode = 'categorical')\n",
        "val = datagen.flow_from_directory(val_dir, target_size = (224,224),batch_size = 32, class_mode = 'categorical')\n",
        "#test = datagen.flow_from_directory(train_dir, target_size = (100,100),batch_size = 100, class_mode = categorical)"
      ],
      "execution_count": null,
      "outputs": [
        {
          "output_type": "stream",
          "name": "stdout",
          "text": [
            "Found 12753 images belonging to 104 classes.\n",
            "Found 3712 images belonging to 104 classes.\n"
          ]
        }
      ]
    },
    {
      "cell_type": "markdown",
      "metadata": {
        "id": "NHGmRAONsLOX"
      },
      "source": [
        "## Effecient Net"
      ]
    },
    {
      "cell_type": "code",
      "metadata": {
        "id": "TipQpcpKmuep"
      },
      "source": [
        "import tensorflow as tf\n",
        "from tensorflow.keras.applications import EfficientNetB0\n",
        "from tensorflow.keras.models import Sequential\n",
        "from tensorflow.keras.layers import Conv2D, MaxPool2D, Flatten, Dense, InputLayer, Input\n",
        "from tensorflow.keras import regularizers\n",
        "from tensorflow.keras import Model \n",
        "IMG_SIZE =224\n",
        "NUM_CLASSES = 104\n",
        "inputs = Input(shape=(IMG_SIZE, IMG_SIZE, 3))\n",
        "x = inputs\n",
        "outputs = EfficientNetB0(include_top=True, weights=None, classes=NUM_CLASSES)(x)\n",
        "model = Model(inputs, outputs)\n",
        "model.compile(\n",
        "      optimizer=\"adam\", loss=\"categorical_crossentropy\", metrics=[\"accuracy\"]\n",
        "  )"
      ],
      "execution_count": null,
      "outputs": []
    },
    {
      "cell_type": "code",
      "metadata": {
        "id": "IPqNxJbbW5Vu"
      },
      "source": [
        "model.summary()"
      ],
      "execution_count": null,
      "outputs": []
    },
    {
      "cell_type": "code",
      "metadata": {
        "id": "2JlXtV_MqOmy"
      },
      "source": [
        "epochs = 25  \n",
        "hist = model.fit(train, epochs=epochs, validation_data=val, verbose=1)\n",
        "#plot_hist(hist)"
      ],
      "execution_count": null,
      "outputs": []
    },
    {
      "cell_type": "code",
      "metadata": {
        "id": "qLQ8VlGfp-2m"
      },
      "source": [
        "model.save(\"EffecientNet.h5\")"
      ],
      "execution_count": null,
      "outputs": []
    },
    {
      "cell_type": "code",
      "metadata": {
        "colab": {
          "base_uri": "https://localhost:8080/"
        },
        "id": "WLC6o6ALrdl1",
        "outputId": "a1768f1d-6644-489e-a295-d852c862fb86"
      },
      "source": [
        "loss,acc = model.evaluate(val) #EffecientNet accuracy"
      ],
      "execution_count": null,
      "outputs": [
        {
          "output_type": "stream",
          "name": "stdout",
          "text": [
            "116/116 [==============================] - 7s 63ms/step - loss: 1.1691 - accuracy: 0.7064\n"
          ]
        }
      ]
    },
    {
      "cell_type": "markdown",
      "metadata": {
        "id": "p7sVh6zYsaTL"
      },
      "source": [
        "## MobileNet"
      ]
    },
    {
      "cell_type": "code",
      "metadata": {
        "id": "Yt8eliQvX2Lj"
      },
      "source": [
        "import tensorflow as tf\n",
        "from tensorflow.keras.applications import MobileNet\n",
        "from tensorflow.keras.models import Sequential\n",
        "from tensorflow.keras.layers import Conv2D, MaxPool2D, Flatten, Dense, InputLayer, Input\n",
        "from tensorflow.keras import regularizers\n",
        "from tensorflow.keras import Model \n",
        "input = Input(shape=(224, 224, 3))\n",
        "outputs =MobileNet(include_top=True, weights=None, classes=104)(input)\n",
        "model = Model(input, outputs)\n",
        "model.compile(\n",
        "      optimizer=\"adam\", loss=\"categorical_crossentropy\", metrics=[\"accuracy\"]\n",
        "  )"
      ],
      "execution_count": null,
      "outputs": []
    },
    {
      "cell_type": "code",
      "metadata": {
        "id": "i7aFeg64tiFk"
      },
      "source": [
        "model.summary()"
      ],
      "execution_count": null,
      "outputs": []
    },
    {
      "cell_type": "code",
      "metadata": {
        "id": "--prCD6TtCK3"
      },
      "source": [
        "epochs = 20\n",
        "hist = model.fit(train, epochs=epochs, validation_data=val, verbose=1)"
      ],
      "execution_count": null,
      "outputs": []
    },
    {
      "cell_type": "code",
      "metadata": {
        "colab": {
          "base_uri": "https://localhost:8080/"
        },
        "id": "za5mUX34OtGF",
        "outputId": "a91aff2f-95ff-49d7-a671-6e9557ff8f28"
      },
      "source": [
        "model.save(\"MobileNet.h5\")\n",
        "loss,acc = model.evaluate(val) #EffecientNet accuracy"
      ],
      "execution_count": null,
      "outputs": [
        {
          "output_type": "stream",
          "name": "stdout",
          "text": [
            "116/116 [==============================] - 7s 58ms/step - loss: 1.4810 - accuracy: 0.6611\n"
          ]
        }
      ]
    }
  ]
}